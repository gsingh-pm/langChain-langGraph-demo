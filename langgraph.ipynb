{
 "cells": [
  {
   "cell_type": "markdown",
   "metadata": {},
   "source": [
    "### LangGraph\n",
    "\n",
    "Imagine scheduling a doctor’s appointment where an AI agent checks your calendar, accesses your provider’s system, verifies insurance, and confirms everything in one go.\n",
    "\n",
    "A Multi-agent systems as above require more advanced frameworks which provide the infrastructure for coordinating autonomous agents, managing communication and resources, and orchestrating workflows.\n",
    "\n",
    "LangGraph is a library for building stateful, multi-actor applications with LLMs, used to create agent and multi-agent workflows.\n",
    "It uses graph-based architecture that handles complex processes and maintains context across agent interactions.\n",
    "\n",
    "LangGraph is similar to n8n for building AI based workflows.\n",
    "\n",
    "Since, LangGraph uses graph-based architecture there are 3 main componnets to it -\n",
    "- State – A shared data structure that represents the current snapshot of your application.\n",
    "    - A reducer is a small function that tells LangGraph how to merge updates into state when multiple nodes return values.\n",
    "- Nodes – Python functions that encode the logic of your agents.\n",
    "- Edges – Python functions that determine which Node to execute next based on the current state. They can be conditional branches or fixed transitions."
   ]
  },
  {
   "cell_type": "code",
   "execution_count": 1,
   "metadata": {},
   "outputs": [
    {
     "data": {
      "text/plain": [
       "\"Page: LangChain\\nSummary: LangChain is a software framework that helps facilitate the integration of large language models (LLMs) into applications. As a language model integration framework, LangChain's use-cases largely overlap with those of language models in general, including document analysis and summarization, chatbots, and code analysis.\\n\\n\""
      ]
     },
     "execution_count": 1,
     "metadata": {},
     "output_type": "execute_result"
    }
   ],
   "source": [
    "# Let's start with a simple app where we have certain tools availbale and the llm decides\n",
    "# on the fly which one to use\n",
    "\n",
    "# https://python.langchain.com/docs/integrations/tools/\n",
    "\n",
    "from langchain_community.tools import WikipediaQueryRun\n",
    "from langchain_community.utilities import WikipediaAPIWrapper\n",
    "\n",
    "api_wrapper_wiki=WikipediaAPIWrapper(top_k_results=1,doc_content_chars_max=500)\n",
    "wiki=WikipediaQueryRun(api_wrapper=api_wrapper_wiki)\n",
    "wiki.invoke(\"LangChain\")"
   ]
  },
  {
   "cell_type": "code",
   "execution_count": 2,
   "metadata": {},
   "outputs": [],
   "source": [
    "from dotenv import load_dotenv\n",
    "load_dotenv()\n",
    "\n",
    "import os\n",
    "os.environ[\"TAVILY_API_KEY\"]=os.getenv(\"TAVILY_API_KEY\")\n",
    "os.environ[\"OPENAI_API_KEY\"]=os.getenv(\"OPENAI_API_KEY\")"
   ]
  },
  {
   "cell_type": "code",
   "execution_count": 3,
   "metadata": {},
   "outputs": [
    {
     "name": "stderr",
     "output_type": "stream",
     "text": [
      "/var/folders/p5/5wwxls6d0_7f88w12nqn06080000gp/T/ipykernel_75910/1303346446.py:4: LangChainDeprecationWarning: The class `TavilySearchResults` was deprecated in LangChain 0.3.25 and will be removed in 1.0. An updated version of the class exists in the :class:`~langchain-tavily package and should be used instead. To use it run `pip install -U :class:`~langchain-tavily` and import as `from :class:`~langchain_tavily import TavilySearch``.\n",
      "  tavily = TavilySearchResults()\n"
     ]
    },
    {
     "data": {
      "text/plain": [
       "[{'title': 'AI News Wrap-Up: 27th August 2025 | AI Assistant Store',\n",
       "  'url': 'https://www.aiassistantstore.com/blogs/latest-news/ai-news-wrap-up-27th-august-2025',\n",
       "  'content': 'All AI Under One Roof™\\n\\n## Country/region\\n\\n## Country/region\\n\\n## Language\\n\\n## Language\\n\\nAI Assistant Store\\n\\n## Item added to your cart\\n\\nAI News Wrap-Up: 27th August 2025\\n\\n# AI News Wrap-Up: 27th August 2025\\n\\n### 🛡 Anthropic Sets Up National Security AI Advisory Council [...] Anthropic has pulled together a new National Security and Public Sector Advisory Council - made up of ex-lawmakers, intel veterans, and security pros - to weigh in on how AI gets used inside U.S. government work. The timing follows its recent $200M Pentagon deal, underscoring just how strategic AI has become.  \\n🔗 Read more\\n\\n### 👾 Claude AI Blocks Hacker Exploits [...] ### ✈ IFA 2025: Flying Taxis, Retail Shake-ups & More\\n\\nBerlin’s IFA 2025 (Sep 5–9) is looking very AI-heavy - think Microsoft’s e-commerce push, invisible smart-home demos, and even stage teasers for flying taxis. Meanwhile, JD.com is circling a huge MediaMarkt-Saturn buy that could flip Europe’s retail scene.  \\n🔗 Read more\\n\\n### 💹 Nvidia Hits Record Revenue, Market Still Wary',\n",
       "  'score': 0.8893851},\n",
       " {'title': 'AI-Driven Revolution in Software Development: Key Updates from ...',\n",
       "  'url': 'https://coaio.com/news/2025/08/ai-driven-revolution-in-software-development-key-updates-from-august-2025/',\n",
       "  'content': 'Overall, these stories from August 2025 illustrate a dynamic field where AI is both a boon and a challenge. As developers adapt to these tools, the key is balancing innovation with practicality. [...] In the fast-paced world of technology, August 2025 has brought a wave of innovations that are reshaping software development. From advanced AI integrations in popular tools to challenges in real-world AI applications, developers and businesses are navigating a landscape filled with opportunities and pitfalls. This article dives into the latest headlines, exploring how these developments could influence the future of coding, project management, and digital strategy. As we cover these stories, [...] Microsoft’s latest update to Visual Studio 2022 is a game-changer for developers relying on AI to boost productivity. Released on August 27, 2025, the update integrates GPT-5 directly into the Integrated Development Environment (IDE), allowing for more intuitive code generation, debugging, and refactoring Read more. This means developers can now leverage advanced natural language processing to write code faster and with fewer errors, potentially reducing development time by up to 30% according',\n",
       "  'score': 0.88705814},\n",
       " {'title': 'Aug 27, 2025 | The Batch | AI News & Insights',\n",
       "  'url': 'https://www.deeplearning.ai/the-batch/tag/aug-27-2025/',\n",
       "  'content': 'Cartoon robots with square heads and antennae sit in rows on an assembly line, each smiling while assembling gears, boxes, and tools.\\nCartoon robots with square heads and antennae sit in rows on an assembly line, each smiling while assembling gears, boxes, and tools.\\n\\n## Agents Running in Parallel Get There Faster: Parallel agents can accelerate AI systems as test-time compute scales up. [...] ✨ New course! Enroll in Agentic Knowledge Graph Construction\\n\\nThe Batch\\nThe Batch\\n\\n# Aug 27, 2025\\n\\n6 Posts\\n\\nCartoon robots with square heads and antennae sit in rows on an assembly line, each smiling while assembling gears, boxes, and tools.\\nCartoon robots with square heads and antennae sit in rows on an assembly line, each smiling while assembling gears, boxes, and tools.\\n\\n## AI-Powered Phones Get Proactive, Robot Antelope Joins Herd, LLM Environmental Impacts Get Measured [...] Hand holding a Pixel 10 smartphone using Google’s Magic Cue AI assistant, which suggests a location reply in a text message conversation.\\nHand holding a Pixel 10 smartphone using Google’s Magic Cue AI assistant, which suggests a location reply in a text message conversation.\\n\\n## Proactive AI Assistance for Phones: Inside Magic Cue, Google’s new AI assistant for Pixel 10\\n\\n## Subscribe to The Batch\\n\\nStay updated with weekly AI News and Insights delivered to your inbox',\n",
       "  'score': 0.85509074},\n",
       " {'title': 'Five Emerging AI Trends in Late-August 2025',\n",
       "  'url': 'https://etcjournal.com/2025/08/21/five-emerging-ai-trends-in-late-august-2025/',\n",
       "  'content': '# Educational Technology and Change Journal\\n\\n## Recent Posts\\n\\n## Recent Comments [...] Google introduced ViTs in 2020, with iterations in models like DeiT. Meta’s DINOv2 advances self-supervised variants, while Hugging Face hosts pre-trained ViTs for community use. In industry, NVIDIA integrates them into Omniverse for simulations, and Adobe uses them in creative tools. Research hubs include Google’s Brain team in Mountain View, USA; Oxford University in the UK; and Tsinghua University in Beijing, China, where collaborations with ByteDance apply ViTs to video analysis. [...] Leading this charge are tech giants and research institutions. Google pioneered federated learning with its Gboard keyboard app, improving next-word predictions across billions of Android devices without uploading user typing data. Apple employs it in iOS for features like QuickType suggestions and health data analysis. In healthcare, IBM and NVIDIA are advancing applications through partnerships with hospitals, while the European Union’s GDPR regulations have spurred adoption in finance via',\n",
       "  'score': 0.8415267},\n",
       " {'title': 'Detecting and countering misuse of AI: August 2025 - Anthropic',\n",
       "  'url': 'https://www.anthropic.com/news/detecting-countering-misuse-aug-2025',\n",
       "  'content': 'Aug 28, 2025\\n\\nNews\\n\\n### Introducing the Anthropic National Security and Public Sector Advisory Council\\n\\nAug 27, 2025\\n\\n### Product\\n\\n### API Platform\\n\\n### Research\\n\\n### Claude models\\n\\n### Commitments\\n\\n### Solutions\\n\\n### Learn\\n\\n### Explore\\n\\n### Help and security\\n\\n### Terms and policies [...] # Detecting and countering misuse of AI: August 2025\\n\\nWe’ve developed sophisticated safety and security measures to prevent the misuse of our AI models. But cybercriminals and other malicious actors are actively attempting to find ways around them. Today, we’re releasing a report that details how. [...] Our Threat Intelligence report discusses several recent examples of Claude being misused, including a large-scale extortion operation using Claude Code, a fraudulent employment scheme from North Korea, and the sale of AI-generated ransomware by a cybercriminal with only basic coding skills. We also cover the steps we’ve taken to detect and counter these abuses.\\n\\nWe find that threat actors have adapted their operations to exploit AI’s most advanced capabilities. Specifically, our report shows:',\n",
       "  'score': 0.81524754}]"
      ]
     },
     "execution_count": 3,
     "metadata": {},
     "output_type": "execute_result"
    }
   ],
   "source": [
    "### Tavily Search Tool\n",
    "from langchain_community.tools.tavily_search import TavilySearchResults\n",
    "\n",
    "tavily = TavilySearchResults()\n",
    "tavily.invoke(\"Provide me the recent AI news for August 27th 2025\")"
   ]
  },
  {
   "cell_type": "code",
   "execution_count": 4,
   "metadata": {},
   "outputs": [],
   "source": [
    "### Combine all the tools in the list\n",
    "\n",
    "tools=[wiki,tavily]"
   ]
  },
  {
   "cell_type": "code",
   "execution_count": 5,
   "metadata": {},
   "outputs": [],
   "source": [
    "## Initialize my LLM model\n",
    "\n",
    "from langchain_openai import ChatOpenAI\n",
    "llm=ChatOpenAI(model=\"gpt-5-2025-08-07\")\n",
    "llm_with_tools=llm.bind_tools(tools)"
   ]
  },
  {
   "cell_type": "code",
   "execution_count": 6,
   "metadata": {},
   "outputs": [
    {
     "data": {
      "image/png": "[encoded data removed]",
      "text/plain": [
       "<IPython.core.display.Image object>"
      ]
     },
     "metadata": {},
     "output_type": "display_data"
    }
   ],
   "source": [
    "# next we start creating our graph\n",
    "\n",
    "from typing_extensions import TypedDict\n",
    "from langchain_core.messages import AnyMessage, AIMessage, HumanMessage\n",
    "from typing import Annotated\n",
    "from langgraph.graph.message import add_messages\n",
    "from IPython.display import Image, display\n",
    "from langgraph.graph import StateGraph, START, END\n",
    "from langgraph.prebuilt import ToolNode\n",
    "from langgraph.prebuilt import tools_condition\n",
    "\n",
    "# The first thing we do in a graph is to define the state\n",
    "# In LangGraph, the \"state\" is a dictionary-like object that flows through your graph. It carries all the data you want to persist between nodes.\n",
    "# as graph runs we want messages to be appended to the state for that we will use the add_messages reducer\n",
    "# that appends messages to the list of messages in the state\n",
    "class State(TypedDict):\n",
    "    messages:Annotated[list[AnyMessage], add_messages]\n",
    "\n",
    "### Node definition\n",
    "# state[\"messages\"] is the imcoming message to LLM and the output is the response from LLM appended to the messages list\n",
    "# Because of the Annotated[..., add_messages] in the State, LangGraph knows to append this message to the running messages list, not overwrite it.\n",
    "def tool_calling_llm(state:State):\n",
    "    return {\"messages\":[llm_with_tools.invoke(state[\"messages\"])]}\n",
    "\n",
    "# Build graph\n",
    "builder = StateGraph(State)\n",
    "builder.add_node(\"tool_calling_llm\", tool_calling_llm)\n",
    "builder.add_node(\"tools\", ToolNode(tools))\n",
    "\n",
    "builder.add_edge(START, \"tool_calling_llm\")\n",
    "builder.add_conditional_edges(\n",
    "    \"tool_calling_llm\",\n",
    "    # If the latest message (result) from assistant is a tool call -> tools_condition routes to tools\n",
    "    # If the latest message (result) from assistant is a not a tool call -> tools_condition routes to END\n",
    "    tools_condition,\n",
    ")\n",
    "builder.add_edge(\"tools\", END)\n",
    "\n",
    "\n",
    "graph = builder.compile()\n",
    "\n",
    "# View\n",
    "display(Image(graph.get_graph().draw_mermaid_png()))"
   ]
  },
  {
   "cell_type": "code",
   "execution_count": 7,
   "metadata": {},
   "outputs": [
    {
     "name": "stdout",
     "output_type": "stream",
     "text": [
      "================================\u001b[1m Human Message \u001b[0m=================================\n",
      "\n",
      "Provide me the top 2 recent AI news for August 27th 2025\n",
      "==================================\u001b[1m Ai Message \u001b[0m==================================\n",
      "Tool Calls:\n",
      "  tavily_search_results_json (call_Jfk5FcMs0Riu8gYn3iwBcNWv)\n",
      " Call ID: call_Jfk5FcMs0Riu8gYn3iwBcNWv\n",
      "  Args:\n",
      "    query: August 27, 2025 AI news\n",
      "  tavily_search_results_json (call_ATd638RPa87TajbCakf7PRSm)\n",
      " Call ID: call_ATd638RPa87TajbCakf7PRSm\n",
      "  Args:\n",
      "    query: Aug. 27, 2025 artificial intelligence news\n",
      "  tavily_search_results_json (call_ZlW4u5bOrCe8TTV3BZU3M2Vh)\n",
      " Call ID: call_ZlW4u5bOrCe8TTV3BZU3M2Vh\n",
      "  Args:\n",
      "    query: 2025-08-27 AI news OpenAI Google Anthropic\n",
      "  tavily_search_results_json (call_DJCWUFcD1VVB0j7jgkg6WeWd)\n",
      " Call ID: call_DJCWUFcD1VVB0j7jgkg6WeWd\n",
      "  Args:\n",
      "    query: August 27, 2025 AI policy regulation news\n",
      "=================================\u001b[1m Tool Message \u001b[0m=================================\n",
      "Name: tavily_search_results_json\n",
      "\n",
      "[{\"title\": \"Top AI News for August 2025: Breakthroughs, Launches & Trends ...\", \"url\": \"https://www.aiapps.com/blog/top-ai-news-for-august-2025-breakthroughs-launches-trends-you-cant-miss/\", \"content\": \"Collectively, these regulatory and ethical shifts are reshaping the way businesses adopt AI. While these changes bring new opportunities, they also demand careful navigation to ensure AI is used responsibly in a fast-changing legal and social environment.\\n\\nConclusion: Key Points from August 2025 AI News\\n\\nAugust 2025 proved to be a transformative month for artificial intelligence, with major developments shaping how businesses and individuals engage with this technology. [...] The United States is rolling out fresh guidelines to support AI development while tackling issues like privacy and transparency. In August 2025, multiple states adopted updated AI regulations, and federal programs were introduced to enhance oversight of AI technologies. These steps are geared toward fostering responsible advancements, mitigating risks, and ensuring AI systems are both understandable and accountable. [...] The release of GPT-5, Claude Opus 4.1, and Gemini 2.5 DeepThink raised the bar for AI performance. GPT-5 achieved a perfect 100% score, while Gemini 2.5 closely followed with 99.2% in competition math tests. These advancements highlight the rapid evolution of AI capabilities.\\n\\nAgentic AI is making waves in industries like customer support, IT, and back-office operations. Projections show this market could reach $24.5 billion by 2030, growing at an impressive annual rate of 46.2%.\", \"score\": 0.92684203}, {\"title\": \"Three Biggest AI Stories in August 2025\", \"url\": \"https://etcjournal.com/2025/08/13/three-biggest-ai-stories-in-august-2025/\", \"content\": \"August 2025 witnessed a pivotal milestone in scientific automation when researchers at Stanford University, alongside the Chan Zuckerberg Biohub, successfully demonstrated autonomous multi-agent AI labs. Here, expert AI agents—including Principal Investigator bots, specialized researchers, and critics—collaborated independently to conceive and validate new COVID-19 nanobodies with minimal human input. movetheneedle [...] The release also intensifies competition, with companies like Anthropic and Google racing to catch up. GPT-5’s launch has triggered a flurry of adaptation among rivals, spurring new research, rapid product upgrades, and the creation of additional multimodal and agentic tools. In essence, the GPT-5 story is not merely about technical progress but about accelerating the global race for smarter, more autonomous AI systems and their permeation into daily life. champaignmagazine\\n\\n  \\n\\nImage 19 [...] The impact is not just technical; it is transforming workflows in coding, education, healthcare, and business. Developers and corporates are rapidly integrating GPT-5, leveraging its enhanced problem-solving and context-aware abilities for process automation and customer interaction. However, initial feedback shows mixed reactions: while some hail the game-changing advancements, others warn of persistent flaws in basic reasoning, spelling, and world knowledge, cautioning against overhype.\", \"score\": 0.90018827}, {\"title\": \"AI-Driven Revolution in Software Development: Key Updates from ...\", \"url\": \"https://coaio.com/news/2025/08/ai-driven-revolution-in-software-development-key-updates-from-august-2025/\", \"content\": \"Overall, these stories from August 2025 illustrate a dynamic field where AI is both a boon and a challenge. As developers adapt to these tools, the key is balancing innovation with practicality. [...] In the fast-paced world of technology, August 2025 has brought a wave of innovations that are reshaping software development. From advanced AI integrations in popular tools to challenges in real-world AI applications, developers and businesses are navigating a landscape filled with opportunities and pitfalls. This article dives into the latest headlines, exploring how these developments could influence the future of coding, project management, and digital strategy. As we cover these stories, [...] Microsoft’s latest update to Visual Studio 2022 is a game-changer for developers relying on AI to boost productivity. Released on August 27, 2025, the update integrates GPT-5 directly into the Integrated Development Environment (IDE), allowing for more intuitive code generation, debugging, and refactoring Read more. This means developers can now leverage advanced natural language processing to write code faster and with fewer errors, potentially reducing development time by up to 30% according\", \"score\": 0.8815438}, {\"title\": \"The Latest AI News and AI Breakthroughs that Matter Most: 2025\", \"url\": \"https://www.crescendo.ai/news/latest-ai-news-and-updates\", \"content\": \"### Esaote to Showcase AI-Powered Cardiac Ultrasound at ESC 2025\\n\\nDate: August 29, 2025\\n\\nSummary: Medical imaging firm Esaote plans to debut AI enhancements in cardiac ultrasound at the European Society of Cardiology (ESC) 2025 conference. The system leverages machine learning to improve image clarity and diagnostic precision, enhancing cardiac workflows and supporting quicker interpretation.\\n\\nSource:Healthcare‑in‑Europe [...] Source:_ New AI Method Maps How Tuberculosis Drugs Destroy Bacteria\\n\\nDate: August 28, 2025\\n\\nSummary: Researchers at Tufts University developed DECIPHAER, an AI-assisted system that maps the precise mechanisms through which TB drugs kill bacterial cells, by linking visual cell images to gene activity. This innovation could accelerate the design of smarter, shorter treatment regimens and potentially inform strategies for other infectious diseases and cancer therapies. [...] Date: September 1, 2025 (approx.)\\n\\nSummary: The U.S. Space Force is planning to embed AI tools across routine and mission-critical workflows to enhance decision-making and resource coordination. The move supports the Department of Defense’s broader “AI-First” strategic vision. Officials are launching AI challenges and pilot programs to accelerate adoption. The initiative aims to strengthen operational efficiency and readiness across the service.\\n\\nSource:SpaceNews\", \"score\": 0.8783249}, {\"title\": \"AI Breakthroughs, Billion-Dollar Bets & Regulatory Showdowns\", \"url\": \"https://ts2.tech/en/ai-breakthroughs-billion-dollar-bets-regulatory-showdowns-aug-26-27-2025-news-roundup/\", \"content\": \"Skip to content\\n\\n# AI Breakthroughs, Billion-Dollar Bets & Regulatory Showdowns - Aug 26-27, 2025 News Roundup\\n\\n by Marcin Frąckiewicz\\n in AI, Business, Technology\\n on 27 August 2025\\n\\n0\", \"score\": 0.86713725}]\n",
      "=================================\u001b[1m Tool Message \u001b[0m=================================\n",
      "Name: tavily_search_results_json\n",
      "\n",
      "[{\"title\": \"August 2025: Top five AI stories of the month - FinTech Futures\", \"url\": \"https://www.fintechfutures.com/ai-in-fintech/august-2025-top-five-ai-stories-of-the-month\", \"content\": \"Wells Fargo has extended its partnership with Google Cloud to deploy AI agents across the bank with the aim to enhance operational efficiency by automating workflows and enabling employees to find information and insights faster to accelerate decision-making.\\n\\nThe US banking giant is now utilising Google Agentspace throughout its operational divisions, and Google's NotebookLM for AI-powered research and documentation. [...] The Spanish banking group, which has previously deployed AI for fraud detection and customer service enhancement, is now expanding its generative and agentic AI capabilities across product management, credit, marketing, service, operations, and other banking functions. [...] Tyler Pathe, Reporter, FinTech Futures\\nAugust 29, 2025\\n\\n3 Min Read\\n\\nImage 16: AI - FinTech News\\n\\n continues to be a driving force in fintech, shaping innovation and dominating global headlines.\\n\\nHere, FinTech Futures recaps five of the top AI stories from August, featuring CommBank, Standard Chartered, Wells Fargo, and more.\\n\\nStandard Chartered signs AI tech partnership with Alibaba\", \"score\": 0.8665964}, {\"title\": \"The Latest AI News and AI Breakthroughs that Matter Most\", \"url\": \"https://www.crescendo.ai/news/latest-ai-news-and-updates\", \"content\": \"Date: September 1, 2025 (approx.)\\n\\nSummary: The U.S. Space Force is planning to embed AI tools across routine and mission-critical workflows to enhance decision-making and resource coordination. The move supports the Department of Defense’s broader “AI-First” strategic vision. Officials are launching AI challenges and pilot programs to accelerate adoption. The initiative aims to strengthen operational efficiency and readiness across the service.\\n\\nSource:SpaceNews [...] Date: August 27, 2025 [...] ### Esaote to Showcase AI-Powered Cardiac Ultrasound at ESC 2025\\n\\nDate: August 29, 2025\\n\\nSummary: Medical imaging firm Esaote plans to debut AI enhancements in cardiac ultrasound at the European Society of Cardiology (ESC) 2025 conference. The system leverages machine learning to improve image clarity and diagnostic precision, enhancing cardiac workflows and supporting quicker interpretation.\\n\\nSource:Healthcare‑in‑Europe\", \"score\": 0.85097736}, {\"title\": \"AI News August 2025: In-Depth and Concise\", \"url\": \"https://theaitrack.com/ai-news-august-2025-in-depth-and-concise/\", \"content\": \"Skip to content\\n\\nImage 3: The AI Track\\n\\nSearch for: \\n\\nMain Menu\\n\\nImage 5: The AI Track\\n\\nMain Menu\\n\\nSearch for: \\n\\n   Home\\n   AI News August 2025: In-Depth and Concise\\n\\nAI News August 2025: In-Depth and Concise\\n\\nWelcome to The AI Track's comprehensive monthly roundup of the latest AI news!\\n\\nEach month, we compile significant news, trends, and happenings in AI, providing detailed summaries with key points in bullet form for concise yet complete understanding.\\n\\nAI NEws [...] Latest AI News [...] GPT-4o: OpenAI Sets New Standards with Real-Time Multimodal Integration\\n   ChatGPT: Your 2 AM AI Emotional Support for Mental Well-Being\\n   What Makes Krutrim AI a Leader in Multilingual AI Platforms?\\n   The Impact of AI in Work: How Artificial Intelligence is Transforming Jobs and Workplaces\", \"score\": 0.846159}, {\"title\": \"Generative AI trends 2025: LLMs, data scaling & enterprise adoption\", \"url\": \"https://www.artificialintelligence-news.com/news/generative-ai-trends-2025-llms-data-scaling-enterprise-adoption/\", \"content\": \"### AI hacking tool exploits zero-day security vulnerabilities in minutes\\n\\nSeptember 3, 2025\\n\\n### Meta revises AI chatbot policies amid child safety concerns\\n\\nSeptember 3, 2025\\n\\n### Microsoft gives free Copilot AI services to US government workers\\n\\nSeptember 2, 2025\\n\\n### Marketing AI boom faces crisis of consumer trust\\n\\nAugust 29, 2025\\n\\nJoin our Community\\n\\nSubscribe now to get all our premium content and latest tech news delivered straight to your inbox\\n\\nClick here\\n\\nPopular [...] ### The new generation of LLMs\\n\\nLarge language models are shedding their reputation as resource-hungry giants. The cost of generating a response from a model has dropped by a factor of 1,000 over the past two years, bringing it in line with the cost of a basic web search. That shift is making real-time AI far more viable for routine business tasks. [...] Image 8: Illustration of person on a mobile device as the vast majority (92%) of marketing professionals are using AI in their day-to-day operations, but shoppers are becoming increasingly distrustful, especially when it comes to their personal data.\\n\\nAI Business Strategy\\n\\nAugust 29, 2025\\n\\nMarketing AI boom faces crisis of consumer trust\\n\\nImage 9: Mark Johnston, Technical Director, Office of the CISO, Asia Pacific, Google Cloud\\n\\nCybersecurity AI\\n\\nAugust 28, 2025\", \"score\": 0.7763013}, {\"title\": \"DOD Official Says AI, Other Innovations Will Transform ...\", \"url\": \"https://www.defense.gov/News/News-Stories/Article/Article/4287970/dod-official-says-ai-other-innovations-will-transform-future-warfighting/\", \"content\": \"Emil Michael, undersecretary of defense for research and engineering, provides the keynote address at the National Defense Industrial Association in Washington, Aug. 27, 2025. Seated on the left is David L. Norquist, NDIA president. \\n\\nShare:\\n\\n\\n\\nEmailFacebookXLinkedInWhatsApp\\n\\nDownload:Full Size (1.59 MB)\\n\\nCredit:David Vergun, DOD\\n\\nVIRIN:250827-D-UB488-002P [...] Emil Michael \\n\\n Emil Michael, undersecretary of defense for research and engineering, provides the keynote address at the National Defense Industrial Association in Washington, Aug. 27, 2025. \\n\\nShare:\\n\\n\\n\\nEmailFacebookXLinkedInWhatsApp\\n\\nDownload:Full Size (1.57 MB)\\n\\nCredit:David Vergun, DOD\\n\\nVIRIN:250827-D-UB488-001P\\n\\nMichael provided the keynote address at the National Defense Industrial Association in Washington today. He also held a media roundtable immediately after the address.\", \"score\": 0.74251556}]\n",
      "=================================\u001b[1m Tool Message \u001b[0m=================================\n",
      "Name: tavily_search_results_json\n",
      "\n",
      "[{\"title\": \"Detecting and countering misuse of AI: August 2025 - Anthropic\", \"url\": \"https://www.anthropic.com/news/detecting-countering-misuse-aug-2025\", \"content\": \"News ### Anthropic raises $13B Series F at $183B post-money valuation Sep 02, 2025News ### Updates to Consumer Terms and Privacy Policy Aug 28, 2025News ### Introducing the Anthropic National Security and Public Sector Advisory Council Aug 27, 2025\\n\\n[](\\n\\n### Product\\n\\n   Claude overview\\n   Claude Code\\n   Max plan\\n   Team plan\\n   Enterprise plan\\n   Download Claude apps\\n   Claude.ai pricing plans\\n   Claude.ai login\\n\\n### API Platform [...] In the full report, we address a number of other malicious uses of our models, including an attempt to compromise Vietnamese telecommunications infrastructure, and the use of multiple AI agents to commit fraud. The growth of AI-enhanced fraud and cybercrime is particularly concerning to us, and we plan to prioritize further research in this area. [...] The threat:We discovered that North Korean operatives had been using Claude to fraudulently secure and maintain remote employment positions at US Fortune 500 technology companies. This involved using our models to create elaborate false identities with convincing professional backgrounds, complete technical and coding assessments during the application process, and deliver actual technical work once hired.\", \"score\": 0.8306082}, {\"title\": \"Helping people when they need it most | OpenAI\", \"url\": \"https://openai.com/index/helping-people-when-they-need-it-most/\", \"content\": \"Image 2: RealtimeAPI Blog Art Card\\n\\nIntroducing gpt-realtime and Realtime API updates Product Aug 28, 2025\\n\\nImage 3: OAI x Anthropic > Cover Image\\n\\nOpenAI and Anthropic share findings from a joint safety evaluation Safety Aug 27, 2025\\n\\nOur Research\\n   Research Index\\n   Research Overview\\n   Research Residency\\n\\nLatest Advancements\\n   OpenAI o3\\n   OpenAI o4-mini\\n   GPT-4o\\n   GPT-4o mini\\n   Sora\\n\\nSafety\\n   Safety Approach\\n   Security & Privacy\\n   Trust & Transparency\", \"score\": 0.80735475}, {\"title\": \"OpenAI News\", \"url\": \"https://openai.com/news/\", \"content\": \"OpenAI and Anthropic share findings from a joint safety evaluation Safety Aug 27, 2025\\n\\nImage 9: Helping people when they need it most > cover image\\n\\nHelping people when they need it most Product Aug 26, 2025\\n\\nImage 10: GPT-5 Dev > Cover Image\\n\\nIntroducing GPT-5 for developers Product Aug 7, 2025\\n\\nImage 11: GPT-5 Enterprise > Cover Image\\n\\nGPT-5 and the new era of work Product Aug 7, 2025\\n\\nImage 12: GPT-5 ResearchBlog ArtCard 1x1\\n\\nIntroducing GPT-5 Release Aug 7, 2025 [...] A letter from Sam & Jony Company Jul 9, 2025\\n\\nImage 5: statsig > cover image\\n\\nVijaye Raji to become CTO of Applications with acquisition of Statsig Company Sep 2, 2025\\n\\nImage 6: more helpful ChatGPT experiences for everyone > cover image\\n\\nBuilding more helpful ChatGPT experiences for everyone Product Sep 2, 2025\\n\\nImage 7: RealtimeAPI Blog Art Card\\n\\nIntroducing gpt-realtime and Realtime API updates Product Aug 28, 2025\\n\\nImage 8: OAI x Anthropic > Cover Image [...] All\\n   Company\\n   Research\\n   Product\\n   Safety\\n   Security\\n   Global Affairs\\n\\nFilter Sort\\n\\nSwitch cards to show Media\\n\\n \\n\\nSwitch cards to hide Media\\n\\n \\n\\nImage 1: \\\"\\\"\\n\\nIntroducing GPT-5 Release Aug 7, 2025\\n\\nImage 2: \\\"\\\"\\n\\nIntroducing GPT-5 Release Aug 7, 2025\\n\\nImage 3: RealtimeAPI Blog Art Card\\n\\nIntroducing gpt-realtime and Realtime API updates Product Aug 28, 2025\\n\\nYour browser does not support the video tag.\\n\\nIntroducing gpt-oss Release Aug 5, 2025\\n\\nImage 4: sam and jony > card image\", \"score\": 0.78670514}, {\"title\": \"Anthropic thwarts hacker attempts to misuse Claude AI for cybercrime\", \"url\": \"https://www.reuters.com/business/retail-consumer/anthropic-thwarts-hacker-attempts-misuse-claude-ai-cybercrime-2025-08-27/\", \"content\": \"Published Time: 2025-08-27T10:06:18.573Z\\n\\nAnthropic thwarts hacker attempts to misuse Claude AI for cybercrime | Reuters\\n\\nSkip to main content\\n\\nReport This Ad\\n\\nExclusive news, data and analytics for financial market professionals Learn more about Refinitiv\\n\\n - Anthropic said on Wednesday it had detected and blocked hackers attempting to misuse its Claude AI system to write phishing emails, create malicious code and circumvent safety filters. [...] Anthropic said it follows strict safety practices, including regular testing and outside reviews, and plans to keep publishing reports when it finds major threats.\\n\\nMicrosoft (MSFT.O), opens new tab and SoftBank-backed (9984.T), opens new tab OpenAI and Google have faced similar scrutiny over fears their AI models could be exploited for hacking or scams, prompting calls for stronger safeguards.\", \"score\": 0.76002824}, {\"title\": \"Anthropic Disrupts AI-Powered Cyberattacks Automating Theft and ...\", \"url\": \"https://thehackernews.com/2025/08/anthropic-disrupts-ai-powered.html\", \"content\": \"__ Aug 27, 2025 __ Ravie Lakshmanan Cyber Attack / Artificial Intelligence\\n\\nImage 3\\n\\nAnthropic on Wednesday revealed that it disrupted a sophisticated operation that weaponized its artificial intelligence (AI)-powered chatbot Claude to conduct large-scale theft and extortion of personal data in July 2025. [...] Published Time: Sun, 31 Aug 2025 12:14:47 GMT\\n\\nAnthropic Disrupts AI-Powered Cyberattacks Automating Theft and Extortion Across Critical Sectors\\n\\n#1 Trusted Cybersecurity News Platform\\n\\nFollowed by 5.20+ million______\\n\\nImage 1: The Hacker News Logo\\n\\n__)\\n\\n__\\n\\n__ Subscribe – Get Latest News\\n\\n   __ Home\\n   __ Newsletter\\n   __ Webinars\\n\\n   Home\\n   Data Breaches\\n   Cyber Attacks\\n   Vulnerabilities\\n   Webinars\\n   Expert Insights\\n   Contact\\n\\n__)\\n\\n__\\n\\n__)\\n\\nResources [...] Image 29: Expert Insights ShinyHunters Data Breach vs. SaaS: Why Dynamic Security Matters --------------------------------------------------------------- __ August 25, 2025 Read ➝Image 30: Expert Insights The New Mindset: Platforms Over Products ---------------------------------------- __ August 25, 2025 Read ➝Image 31: Expert Insights AI's Hidden Security Debt ------------------------- __ August 18, 2025 Read ➝Image 32: Expert Insights Why Traditional Approaches to Patch Management Fail in\", \"score\": 0.75723875}]\n",
      "=================================\u001b[1m Tool Message \u001b[0m=================================\n",
      "Name: tavily_search_results_json\n",
      "\n",
      "[{\"title\": \"Global AI Regulatory Update - August 2025 | Eversheds Sutherland\", \"url\": \"https://www.eversheds-sutherland.com/en/united-states/insights/global-ai-regulatory-update-august\", \"content\": \"US published a letter emphasizing the need for AI policies in organizations. The PCPD states that using generative AI without guidance risks personal data privacy and may compromise the organization’s interests. The PCPD has also published a checklist to help organizations create internal AI guidelines. [...] The rules spotlight complex areas such as employment decisions, housing, financial or lending services, and other areas where data processing will impact consumers’ access to critical life opportunities or services. Businesses, under these new regulatory requirements, will likely face significant operational challenges to meet their expanded consumer privacy obligations. [...] Impact: Organizations are encouraged to: \\n   provide clear instructions on data inputs and outputs and establish policies for data retention and security\\n   devise an internal AI policy to provide clear guidance to employees on the use of GenAI at work\\n   train employees, enhance transparency, and establish feedback mechanisms\\n\\nThis approach aims to create a win-win situation by leveraging AI benefits while safeguarding organizational and employee interests.\", \"score\": 0.8886914}, {\"title\": \"Global AI Regulatory Update - August 2025\", \"url\": \"https://www.eversheds-sutherland.com/en/finland/insights/global-ai-regulatory-update-august\", \"content\": \"Dublin, Ireland   Nasser Ali Khasawneh  Partner  Dubai, United Arab Emirates   Rachel M. Reid  Partner  Atlanta, United States   Simon Gamlin  Partner  United Kingdom   Kirath Bharya  Knowledge Lawyer  United Kingdom  Latest Insights   legal updates Global AI Regulatory Update - August 2025  legal updates Commercially Connected - 27 August 2025  legal updates Germany: Government adopts bill for commercial carbon capture and storage  legal updates Bundesregierung beschließt Gesetzentwurf zur [...] |  | [...] Skip to content\\n\\n|  |\", \"score\": 0.86358756}, {\"title\": \"Latest wave of obligations under the EU AI Act take effect - DLA Piper\", \"url\": \"https://www.dlapiper.com/en-us/insights/publications/2025/08/latest-wave-of-obligations-under-the-eu-ai-act-take-effect\", \"content\": \"DLA Piper's AI Laws of the World guide provides a 2025 Q3 snapshot of AI laws and proposed regulations across more than 40 countries (including all 27 EU Member States), key legislative developments, regulations, proposed bills, and guidelines issued by governmental bodies. The guide shows that while there is enormous regional variation in regulatory approaches and attitudes, some common thematic concerns are shared.\\n\\n#### For more information\", \"score\": 0.8364614}, {\"title\": \"Artificial Intelligence Update - August 2025 - Quinn Emanuel\", \"url\": \"https://www.quinnemanuel.com/the-firm/publications/artificial-intelligence-update-august-2025/\", \"content\": \"_Texas’s Targeted, Pro-Innovation Strategy:_ The Texas Responsible AI Governance Act, also effective January 1, 2026, adopts a focused approach designed to avoid regulatory overreach. Rather than regulating by risk, the statute prohibits only certain uses of AI—those developed or deployed with the intent to cause unlawful discrimination, behavioral manipulation, or the creation of deepfakes for illegal purposes. Unlike Colorado’s effects-based framework, Texas requires proof of intent, setting [...] Regulatory Fragmentation and Compliance Challenges [...] Although future federal AI regulation remains possible, businesses that already follow best practices in risk assessment and transparency will be better prepared for any future national standards. Integrating AI oversight into broader corporate governance—including privacy and cybersecurity—will help companies manage this evolving regulatory environment effectively.\\n\\nImage 5: YouTubeImage 6: FacebookImage 7: TwitterImage 8: InstagramImage 9: Linkedin\", \"score\": 0.79522943}, {\"title\": \"AI Law Center: August 2025 Updates - Orrick\", \"url\": \"https://www.orrick.com/en/Insights/2025/08/AI-Law-Center-August-2025-Updates\", \"content\": \"California's \\\"Companion Chatbot Safety Act\\\"\\n   Two Non-Discrimination ADMT Bills in Massachusetts\\n   Colorado Governor Convenes Special Session for AI Bill\\n   U.S. House Introduces New Bill to Innovate in Financial ServicesNew U.S. State Laws\\n\\n   AI CSAM\\n   AI in Education\\n   AI in Government\\n   AI in Healthcare\\n   User-Facing AI\\n\\nAI Regulatory Landscape: Three Things to Know [...] Nick helps clients develop flexible governance frameworks for the development and use of artificial intelligence in the face of ever evolving AI legislation. He also advises clients on strategies, policies and procedures for the sourcing of AI training data, the responsible use of AI by employees, the assessment of risks presented by AI tools, the design of consumer-facing AI, the negotiation of AI-related contracts and the handling of AI-related regulatory inquiries and investigations. [...] He also counsels clients on the impact of international laws from a U.S. perspective, including the General Data Protection Regulation (GDPR), the ePrivacy Directive (ePD), and the EU Artificial Intelligence Act.\", \"score\": 0.78886026}]\n"
     ]
    }
   ],
   "source": [
    "messages=graph.invoke({\"messages\":HumanMessage(content=\"Provide me the top 2 recent AI news for August 27th 2025\")})\n",
    "for m in messages['messages']:\n",
    "    m.pretty_print()"
   ]
  },
  {
   "cell_type": "code",
   "execution_count": 8,
   "metadata": {},
   "outputs": [
    {
     "name": "stdout",
     "output_type": "stream",
     "text": [
      "================================\u001b[1m Human Message \u001b[0m=================================\n",
      "\n",
      "What is machine learning\n",
      "==================================\u001b[1m Ai Message \u001b[0m==================================\n",
      "\n",
      "Machine learning is a branch of artificial intelligence where computers learn patterns from data to make predictions or decisions without being explicitly programmed with rules.\n",
      "\n",
      "How it works (at a high level):\n",
      "- Collect data (labeled or unlabeled) and define the task.\n",
      "- Choose a model and a loss/objective function.\n",
      "- Train the model by optimizing the loss on training data (often with gradient descent).\n",
      "- Validate on held-out data to tune settings and avoid overfitting; test and deploy.\n",
      "- Monitor performance over time as data changes.\n",
      "\n",
      "Main types:\n",
      "- Supervised learning: learn from labeled examples (e.g., regression, classification).\n",
      "- Unsupervised learning: find structure in unlabeled data (e.g., clustering, dimensionality reduction).\n",
      "- Reinforcement learning: learn by trial and error to maximize rewards.\n",
      "- Others: semi/self-supervised, transfer learning, online learning.\n",
      "\n",
      "Common algorithms:\n",
      "- Linear/logistic regression, decision trees, random forests, gradient boosting, SVMs, k-NN, Naive Bayes.\n",
      "- Unsupervised: k-means, DBSCAN, PCA, t-SNE/UMAP.\n",
      "- Neural networks/deep learning for images, speech, and language.\n",
      "\n",
      "Key concepts:\n",
      "- Features and labels; training/validation/test splits.\n",
      "- Overfitting vs. underfitting, bias–variance trade-off, regularization, cross-validation.\n",
      "- Evaluation metrics (accuracy, precision/recall, ROC-AUC, RMSE, etc.).\n",
      "\n",
      "Applications:\n",
      "- Recommendations, search, fraud detection, forecasting, medical diagnosis, computer vision, NLP, speech, autonomous systems, anomaly detection.\n",
      "\n",
      "Limitations and considerations:\n",
      "- Data quality and bias, fairness, privacy, interpretability, robustness to distribution shift, compute and energy costs.\n",
      "\n",
      "If you share your context (e.g., beginner-friendly intro, math intuition, coding examples), I can tailor a deeper explanation.\n"
     ]
    }
   ],
   "source": [
    "messages=graph.invoke({\"messages\":HumanMessage(content=\"What is machine learning\")})\n",
    "for m in messages['messages']:\n",
    "    m.pretty_print()"
   ]
  },
  {
   "cell_type": "markdown",
   "metadata": {},
   "source": []
  },
  {
   "cell_type": "markdown",
   "metadata": {},
   "source": [
    "### ReAct agent architecture\n",
    "What if the LLM need to use multiple tools based on prompt like \"Get the google dodole for the day and info about it from wikipedia\"\n",
    "\n",
    "This is a general agent architecture with 3 important steps\n",
    "- Act -> The LLM model calling a specifc tool in above scenrio. i,e, based on input the model does something.\n",
    "- Observe -> Once tool executes it does not end the execution but will send the response back to the model\n",
    "- Reason -> Model will reason again about the output from the tool and decide the next step"
   ]
  },
  {
   "cell_type": "code",
   "execution_count": 9,
   "metadata": {},
   "outputs": [
    {
     "data": {
      "image/png": "[encoded data removed]",
      "text/plain": [
       "<IPython.core.display.Image object>"
      ]
     },
     "metadata": {},
     "output_type": "display_data"
    }
   ],
   "source": [
    "# Build graph\n",
    "builder = StateGraph(State)\n",
    "builder.add_node(\"tool_calling_llm\", tool_calling_llm)\n",
    "builder.add_node(\"tools\", ToolNode(tools))\n",
    "\n",
    "builder.add_edge(START, \"tool_calling_llm\")\n",
    "builder.add_conditional_edges(\n",
    "    \"tool_calling_llm\",\n",
    "    # If the latest message (result) from assistant is a tool call -> tools_condition routes to tools\n",
    "    # If the latest message (result) from assistant is a not a tool call -> tools_condition routes to END\n",
    "    tools_condition,\n",
    ")\n",
    "builder.add_edge(\"tools\",\"tool_calling_llm\")\n",
    "\n",
    "\n",
    "graph = builder.compile()\n",
    "\n",
    "# View\n",
    "display(Image(graph.get_graph().draw_mermaid_png()))"
   ]
  },
  {
   "cell_type": "code",
   "execution_count": 10,
   "metadata": {},
   "outputs": [
    {
     "name": "stdout",
     "output_type": "stream",
     "text": [
      "================================\u001b[1m Human Message \u001b[0m=================================\n",
      "\n",
      "Find information on the Eiffel Tower. First, use Tavily Search to get the most recent news or updates. Then, use Wikipedia to provide historical or background details. Combine both sources in your final answer.\n",
      "==================================\u001b[1m Ai Message \u001b[0m==================================\n",
      "Tool Calls:\n",
      "  tavily_search_results_json (call_BuVw0Do8SRYmP0uSOrxRsrpI)\n",
      " Call ID: call_BuVw0Do8SRYmP0uSOrxRsrpI\n",
      "  Args:\n",
      "    query: Eiffel Tower latest news updates 2025\n",
      "  wikipedia (call_ivHRz5sq4itAGf5Ik4EyJREO)\n",
      " Call ID: call_ivHRz5sq4itAGf5Ik4EyJREO\n",
      "  Args:\n",
      "    query: Eiffel Tower\n",
      "=================================\u001b[1m Tool Message \u001b[0m=================================\n",
      "Name: tavily_search_results_json\n",
      "\n",
      "[{\"title\": \"Like a hanging garden on the 1st floor of the Eiffel Tower\", \"url\": \"https://www.toureiffel.paris/en/news/visit/hanging-garden-1st-floor-eiffel-tower\", \"content\": \"From May 28 to September 15, 2025, the Eiffel Tower will be adorned with greenery, welcoming a real hanging garden on the 1st floor, nearly 60 meters above the ground. To welcome our visitors as they ascend or descend during their visit, this green terrace, combining art, nature, and relaxation, will be open all day and in the evening during the Tower's opening hours.\\n\\n## Plant sculptures and unique lemonades! [...] Eiffel Tower\\nEiffel Tower\\nalt=\\n\\n# Like a hanging garden on the 1st floor of the Eiffel Tower\\n\\nSummer Terrace 2025\\n\\nMonday 2 June 2025\\n\\nModified the 25/07/25 [...] French artist Monsieur Plant, known for his creations that blend nature and everyday objects, has taken over the terrace with a series of inspiring and exotic plant sculptures. A poetic vision above the rooftops of Paris!\\n\\nSculptures végétales sur la terrasse d'été 2025\", \"score\": 0.8627572}, {\"title\": \"Visiting the Eiffel Tower - OFFICIAL Eiffel Tower Website\", \"url\": \"https://www.toureiffel.paris/en/news/visit\", \"content\": \"Eiffel Tower\\nEiffel Tower\\nalt=\\n\\n# Visit\\n\\nVisit\\n\\n## Visit\\n\\nFor the 2025 summer season, the 1st floor terrace will be transformed into a peaceful green haven! [...] Summer Terrace 2025\\nEiffel Tower\\nExhibition in the stairs\\nVista lunga dalla Torre Eiffel\\nTable and meal at the restaurant Madame Brasserie\\nVisitors at the top of the Eiffel Tower\\nView of the Eiffel Tower all lit up at night\\nPhoto of the 2024 winter terrace\\nDernier étage de la tour Eiffel\\nDamman Frères and the Eiffel Tower tea bag bauble\\nPhoto of the Bernardaud collection in the Eiffel Tower gardens\\nEiffel Tower effect\\nView on the Eiffel Tower and the olympic rings\\nSummer terrace on first floor\", \"score\": 0.77548623}, {\"title\": \"The Eiffel Tower is closed to tourists due to heat. Here's why ... - CNN\", \"url\": \"https://www.cnn.com/2025/07/01/weather/europe-heat-wave-global-warming\", \"content\": \"### CNN values your feedback\\n\\n# The Eiffel Tower is closed to tourists due to searing heat. Here’s why it’s happening\\n\\nA tourist holds an umbrella as protection from the sun during a heatwave near the Eiffel Tower, in Paris, on June 30, 2025. French authorities put Paris on red alert for extreme heat.\\n\\nA marine heat wave in the Mediterranean Sea is combining with a powerful heat dome to cause Europe to swelter under a brutal early summer heat wave. [...] The heat wave, which also involves hot air flowing north from Africa, is also reinforcing the marine heat wave in a feedback cycle.\\n\\nPeople take advantage of water mist fountains in Valencia, Spain on June 21, 2025, as parts of the country experience a heatwave.\\nPedestrians walk past a pharmacy sign showing 39 degrees celsius (102 Fahreneheit) as high temperatures hit Lisbon, Portugal on June 28, 2025. [...] Wimbledon tennis spectators use handheld fans to cool themselves down during the first round match between Russia's Daniil Medvedev and France's Benjamin Bonzi in London, on 30 June 2025.\\nSmoke and flames from wildfires in Seferihisar district of Izmir, Turkiye on June 30, 2025.\\n\\n“The current June-July heatwave is exposing millions of Europeans to high heat stress,” Samantha Burgess, strategic lead for climate at the European Centre for Medium-Range Weather Forecasting, saidin a statement.\", \"score\": 0.7646988}, {\"title\": \"The Eiffel Tower gets bigger every summer—here's why - Phys.org\", \"url\": \"https://phys.org/news/2025-08-eiffel-tower-bigger-summer.html\", \"content\": \"Phys.org\\n\\n### Science X Account\\n\\nSign in with\\n\\nForget Password?\\n\\nLearn more\\n\\nMedical Xpress\\nTech Xplore\\n\\nshare this!\\n\\n1\\n\\nTweet\\n\\nShare\\n\\nEmail\\n\\nAugust 6, 2025\\n\\n# The Eiffel Tower gets bigger every summer—here's why\\n\\nby Federico de Isidro Gordejuela, The Conversation\\n\\nedited by\\nGaby Clark, reviewed by Andrew Zinin\\n\\n##### Gaby Clark\\n\\nscientific editor\\n\\n##### Andrew Zinin\\n\\nlead editor [...] Aug 30, 2025\\n\\n#### The Secrets of Prof. Verschure's Rosetta Stones\\n\\nAug 28, 2025\\n\\nMore from Earth Sciences\\n\\n### Related Stories\\n\\n##### Metal alloy shows practically no thermal expansion over extremely large temperature interval\\n\\nFeb 3, 2025\\n\\n##### Czechs 3D-print Eiffel Tower from ocean waste for Olympics\\n\\nApr 22, 2024\\n\\n##### High strength through hierarchy: Researchers develop new process for building ultralight materials\\n\\nMar 4, 2021 [...] #### Polaritons enable tunable and efficient molecular charge transfer across broader spectrum of light\\n\\nSep 3, 2025\\n\\n0\\n\\n##### Rare Iron Age ingot found in Sweden sheds light on ancient Baltic networks\\n\\n16 minutes ago\\n\\n##### PFAS water treatment has double benefits, cutting toxic 'forever chemicals' and carcinogens\\n\\n58 minutes ago\\n\\n##### New isolated early-type dwarf galaxy discovered\\n\\n58 minutes ago\\n\\n##### The hidden chemistry of Earth's core is revealed by how it froze\\n\\n3 hours ago\", \"score\": 0.6780931}, {\"title\": \"The latest Eiffel Tower news\", \"url\": \"https://www.toureiffel.paris/en/news\", \"content\": \"Eiffel Tower\\nEiffel Tower\\nExhibition in the stairs\\nVista lunga dalla Torre Eiffel\\nTable and meal at the restaurant Madame Brasserie\\nSummer Terrace 2025\\nNames of scientists encircling the 1st level of the Eiffel Tower\\nVisitors at the top of the Eiffel Tower\\nPhoto of the French flag flying between the first and second floors of the Eiffel Tower\\nEaster at the Eiffel Tower\\nView of the Eiffel Tower all lit up at night\\nPoster of the Vertigo of the Tower [...] Eiffel Tower\\nEiffel Tower\\nalt=\\n\\n# All the news\\n\\nAll the news\\n\\n## Visit\\n\\nThe Eiffel Tower is very busy in July and August, but you can make the most of your visit with these tips. [...] ## Don't miss\\n\\nScan a QR Code to access the immersive experience\\nView from the second floor\\nLongue vue\\n\\nSave time, buy your tickets online Sur la billetterie officielle\\n\\nEiffel Tower\\nEiffel Tower\\n\\ntoureiffel.paris the official website of the Eiffel Tower. A website owned by Sociéte d'Exploitation de la tour Eiffel\\n\\nFollow us on\", \"score\": 0.66464967}]\n",
      "=================================\u001b[1m Tool Message \u001b[0m=================================\n",
      "Name: wikipedia\n",
      "\n",
      "Page: Eiffel Tower\n",
      "Summary: The Eiffel Tower (  EYE-fəl; French: Tour Eiffel [tuʁ ɛfɛl] ) is a wrought-iron lattice tower on the Champ de Mars in Paris, France. It is named after the engineer Gustave Eiffel, whose company designed and built the tower from 1887 to 1889.\n",
      "Locally nicknamed \"La dame de fer\" (French for \"Iron Lady\"), it was constructed as the centrepiece of the 1889 World's Fair, and to crown the centennial anniversary of the French Revolution. Although initially criticised by some o\n",
      "==================================\u001b[1m Ai Message \u001b[0m==================================\n",
      "\n",
      "Here’s a combined brief using both recent reports (Tavily Search) and background from Wikipedia.\n",
      "\n",
      "Recent news and updates (via Tavily Search):\n",
      "- Summer 2025 “Hanging Garden” terrace: The Eiffel Tower’s 1st floor is transformed into a green terrace with plant sculptures by French artist Monsieur Plant, open during tower hours from May 28 to September 15, 2025. Source: Official Eiffel Tower site (toureiffel.paris).\n",
      "- Visitor info: The tower is very busy in July–August; the official site advises buying tickets online and shares seasonal tips and updates. Source: toureiffel.paris.\n",
      "- Heat-related closure: During an intense early-summer European heat wave, the Eiffel Tower closed to tourists due to extreme heat, with Paris on red alert. Reported July 1, 2025. Source: CNN.\n",
      "- Why it “gets taller” in summer: Coverage in August 2025 explains the tower expands slightly in hot weather because iron expands with heat (thermal expansion). Source: Phys.org/The Conversation.\n",
      "\n",
      "Historical/background details (via Wikipedia):\n",
      "- What it is: A wrought-iron lattice tower on the Champ de Mars in Paris, nicknamed “La dame de fer” (the Iron Lady).\n",
      "- Built for the 1889 World’s Fair: Designed and constructed by Gustave Eiffel’s company from 1887–1889 as the centerpiece of the Exposition Universelle marking the French Revolution’s centennial. Initially criticized by some artists and intellectuals, it became a global cultural icon of France.\n",
      "- Height and structure: Originally about 300 meters; with antennas added over time it stands roughly 330 meters today. The structure uses about 18,000 iron pieces and millions of rivets, weighing over 7,000 tons. It is repainted periodically to protect against corrosion.\n",
      "- Levels and uses: Three public levels with viewing platforms; restaurants and amenities on lower floors (e.g., Madame Brasserie on the 1st floor). The tower has served scientific and communications roles (notably radio/TV transmission), which helped secure its preservation when early demolition was considered.\n",
      "- Popularity: Among the world’s most visited paid monuments, drawing millions of visitors annually.\n",
      "\n",
      "If you’d like, I can pull official visiting hours, ticketing links, or current maintenance notices from the tower’s website.\n"
     ]
    }
   ],
   "source": [
    "messages=graph.invoke({\"messages\":HumanMessage(content=\"Find information on the Eiffel Tower. First, use Tavily Search to get the most recent news or updates. Then, use Wikipedia to provide historical or background details. Combine both sources in your final answer.\")})\n",
    "for m in messages['messages']:\n",
    "    m.pretty_print()"
   ]
  },
  {
   "cell_type": "markdown",
   "metadata": {},
   "source": [
    "### Debugging\n",
    "We can debug langgraph apps using langGraph studio\n",
    "\n",
    "File openai_agent.py\n",
    "\n",
    "\n",
    "\n",
    "`langgraph dev`"
   ]
  },
  {
   "cell_type": "markdown",
   "metadata": {},
   "source": [
    "### Workflows patterns + RAG + Human in the loop\n",
    "\n",
    "https://langchain-ai.github.io/langgraph/tutorials/workflows/\n",
    "\n",
    "https://langchain-ai.github.io/langgraph/concepts/agentic_concepts/"
   ]
  }
 ],
 "metadata": {
  "kernelspec": {
   "display_name": "venv",
   "language": "python",
   "name": "python3"
  },
  "language_info": {
   "codemirror_mode": {
    "name": "ipython",
    "version": 3
   },
   "file_extension": ".py",
   "mimetype": "text/x-python",
   "name": "python",
   "nbconvert_exporter": "python",
   "pygments_lexer": "ipython3",
   "version": "3.11.0"
  }
 },
 "nbformat": 4,
 "nbformat_minor": 2
}
